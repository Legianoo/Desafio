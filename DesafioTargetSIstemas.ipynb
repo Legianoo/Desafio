{
  "nbformat": 4,
  "nbformat_minor": 0,
  "metadata": {
    "colab": {
      "provenance": []
    },
    "kernelspec": {
      "name": "python3",
      "display_name": "Python 3"
    },
    "language_info": {
      "name": "python"
    }
  },
  "cells": [
    {
      "cell_type": "markdown",
      "source": [
        "1) Observe o trecho de código abaixo: int INDICE = 13, SOMA = 0, K = 0;\n",
        "Enquanto K < INDICE faça { K = K + 1; SOMA = SOMA + K; }\n",
        "Imprimir(SOMA);\n",
        "Ao final do processamento, qual será o valor da variável SOMA?"
      ],
      "metadata": {
        "id": "Cjmdj00Xefyk"
      }
    },
    {
      "source": [
        "INDICE = 13\n",
        "SOMA = 0\n",
        "K = 0\n",
        "\n",
        "while K < INDICE:\n",
        "  K = K + 1\n",
        "  SOMA = SOMA + K\n",
        "\n",
        "print(SOMA)"
      ],
      "cell_type": "code",
      "metadata": {
        "colab": {
          "base_uri": "https://localhost:8080/"
        },
        "id": "aR80ycR2bspl",
        "outputId": "8d3953c2-8199-4ba8-fe54-64ab8898c223"
      },
      "execution_count": 2,
      "outputs": [
        {
          "output_type": "stream",
          "name": "stdout",
          "text": [
            "91\n"
          ]
        }
      ]
    },
    {
      "cell_type": "markdown",
      "source": [
        "2) Dado a sequência de Fibonacci, onde se inicia por 0 e 1 e o próximo valor sempre será a soma dos 2 valores anteriores (exemplo: 0, 1, 1, 2, 3, 5, 8, 13, 21, 34...), escreva um programa na linguagem que desejar onde, informado um número, ele calcule a sequência de Fibonacci e retorne uma mensagem avisando se o número informado pertence ou não a sequência.\n",
        "\n",
        "IMPORTANTE: Esse número pode ser informado através de qualquer entrada de sua preferência ou pode ser previamente definido no código;\n"
      ],
      "metadata": {
        "id": "k1JEV3W2eiKk"
      }
    },
    {
      "source": [
        "def fibonacci(n):\n",
        "  \"\"\"\n",
        "  Esta função calcula a sequência de Fibonacci até um determinado número e verifica se o número pertence à sequência.\n",
        "  \"\"\"\n",
        "  if n <= 0:\n",
        "    return \"O número não pertence à sequência de Fibonacci.\"\n",
        "  elif n == 1:\n",
        "    return \"O número pertence à sequência de Fibonacci.\"\n",
        "  else:\n",
        "    a = 0\n",
        "    b = 1\n",
        "    while b < n:\n",
        "      temp = b\n",
        "      b = a + b\n",
        "      a = temp\n",
        "    if b == n:\n",
        "      return \"O número pertence à sequência de Fibonacci.\"\n",
        "    else:\n",
        "      return \"O número não pertence à sequência de Fibonacci.\"\n",
        "\n",
        "num = 13\n",
        "\n",
        "print(fibonacci(num))"
      ],
      "cell_type": "code",
      "metadata": {
        "colab": {
          "base_uri": "https://localhost:8080/"
        },
        "id": "I8gEHBdDb4Wm",
        "outputId": "061c3166-89eb-478e-da39-a11f180d0a0b"
      },
      "execution_count": 9,
      "outputs": [
        {
          "output_type": "stream",
          "name": "stdout",
          "text": [
            "O número pertence à sequência de Fibonacci.\n"
          ]
        }
      ]
    },
    {
      "cell_type": "markdown",
      "source": [
        "3) Dado um vetor que guarda o valor de faturamento diário de uma distribuidora, faça um programa, na linguagem que desejar, que calcule e retorne:\n",
        "• O menor valor de faturamento ocorrido em um dia do mês;\n",
        "• O maior valor de faturamento ocorrido em um dia do mês;\n",
        "• Número de dias no mês em que o valor de faturamento diário foi superior à média mensal.\n",
        "\n",
        "IMPORTANTE:\n",
        "a) Usar o json ou xml disponível como fonte dos dados do faturamento mensal;\n",
        "b) Podem existir dias sem faturamento, como nos finais de semana e feriados. Estes dias devem ser ignorados no cálculo da média;\n"
      ],
      "metadata": {
        "id": "1NrglTx9el1E"
      }
    },
    {
      "source": [
        "import json\n",
        "\n",
        "with open('dados.json', 'r') as f:\n",
        "  faturamento_diario = json.load(f)\n",
        "\n",
        "menor_faturamento = min(dia['valor'] for dia in faturamento_diario if dia['valor'] is not None)\n",
        "\n",
        "maior_faturamento = max(dia['valor'] for dia in faturamento_diario if dia['valor'] is not None)\n",
        "\n",
        "valores = [dia['valor'] for dia in faturamento_diario if dia['valor'] is not None]\n",
        "media_mensal = sum(valores) / len(valores)\n",
        "\n",
        "dias_acima_da_media = sum(1 for dia in faturamento_diario if dia['valor'] is not None and dia['valor'] > media_mensal)\n",
        "\n",
        "print(f\"Menor faturamento diário: {menor_faturamento}\")\n",
        "print(f\"Maior faturamento diário: {maior_faturamento}\")\n",
        "print(f\"Número de dias com faturamento acima da média: {dias_acima_da_media}\")"
      ],
      "cell_type": "code",
      "metadata": {
        "colab": {
          "base_uri": "https://localhost:8080/"
        },
        "id": "iDMLx00pdmj0",
        "outputId": "a61da08f-1f42-4980-bb44-c4ad4134e452"
      },
      "execution_count": 17,
      "outputs": [
        {
          "output_type": "stream",
          "name": "stdout",
          "text": [
            "Menor faturamento diário: 0.0\n",
            "Maior faturamento diário: 48924.2448\n",
            "Número de dias com faturamento acima da média: 12\n"
          ]
        }
      ]
    },
    {
      "cell_type": "markdown",
      "source": [
        "4) Dado o valor de faturamento mensal de uma distribuidora, detalhado por estado:\n",
        "• SP – R$67.836,43\n",
        "• RJ – R$36.678,66\n",
        "• MG – R$29.229,88\n",
        "• ES – R$27.165,48\n",
        "• Outros – R$19.849,53\n",
        "\n",
        "Escreva um programa na linguagem que desejar onde calcule o percentual de representação que cada estado teve dentro do valor total mensal da distribuidora."
      ],
      "metadata": {
        "id": "g4NxamiUep1s"
      }
    },
    {
      "source": [
        "faturamento = {\n",
        "    \"SP\": 67836.43,\n",
        "    \"RJ\": 36678.66,\n",
        "    \"MG\": 29229.88,\n",
        "    \"ES\": 27165.48,\n",
        "    \"Outros\": 19849.53,\n",
        "}\n",
        "\n",
        "faturamento_total = sum(faturamento.values())\n",
        "\n",
        "for estado, valor in faturamento.items():\n",
        "    percentual = (valor / faturamento_total) * 100\n",
        "    print(f\"{estado}: {percentual:.2f}%\")"
      ],
      "cell_type": "code",
      "metadata": {
        "colab": {
          "base_uri": "https://localhost:8080/"
        },
        "id": "sWGc5I-rd8kT",
        "outputId": "29594d81-46a1-4f2a-c0b7-86e19b476bca"
      },
      "execution_count": 19,
      "outputs": [
        {
          "output_type": "stream",
          "name": "stdout",
          "text": [
            "SP: 37.53%\n",
            "RJ: 20.29%\n",
            "MG: 16.17%\n",
            "ES: 15.03%\n",
            "Outros: 10.98%\n"
          ]
        }
      ]
    },
    {
      "cell_type": "markdown",
      "source": [
        "5) Escreva um programa que inverta os caracteres de um string.\n",
        "\n",
        "IMPORTANTE:\n",
        "a) Essa string pode ser informada através de qualquer entrada de sua preferência ou pode ser previamente definida no código;\n",
        "b) Evite usar funções prontas, como, por exemplo, reverse;"
      ],
      "metadata": {
        "id": "NWsS3jhDex88"
      }
    },
    {
      "source": [
        "string = \"Exemplo de string\"\n",
        "\n",
        "string_invertida = \"\"\n",
        "\n",
        "for i in range(len(string) - 1, -1, -1):\n",
        "\n",
        "  string_invertida += string[i]\n",
        "\n",
        "print(string_invertida)"
      ],
      "cell_type": "code",
      "metadata": {
        "colab": {
          "base_uri": "https://localhost:8080/"
        },
        "id": "bP11GZ7oeHOE",
        "outputId": "782eec45-e94d-4ebf-b07a-afbd1b8f9cf6"
      },
      "execution_count": 21,
      "outputs": [
        {
          "output_type": "stream",
          "name": "stdout",
          "text": [
            "gnirts ed olpmexE\n"
          ]
        }
      ]
    }
  ]
}